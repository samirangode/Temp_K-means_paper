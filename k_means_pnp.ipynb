{
  "nbformat": 4,
  "nbformat_minor": 0,
  "metadata": {
    "colab": {
      "name": "k-means-pnp.ipynb",
      "version": "0.3.2",
      "provenance": [],
      "collapsed_sections": []
    },
    "kernelspec": {
      "name": "python3",
      "display_name": "Python 3"
    }
  },
  "cells": [
    {
      "cell_type": "code",
      "metadata": {
        "id": "1bm7K6D0b8M7",
        "colab_type": "code",
        "outputId": "160e8e5d-a950-4667-f11f-6410ec0cb67d",
        "colab": {
          "base_uri": "https://localhost:8080/",
          "height": 102
        }
      },
      "source": [
        "!pip install pandas\n"
      ],
      "execution_count": 0,
      "outputs": [
        {
          "output_type": "stream",
          "text": [
            "Requirement already satisfied: pandas in /usr/local/lib/python3.6/dist-packages (0.24.2)\n",
            "Requirement already satisfied: python-dateutil>=2.5.0 in /usr/local/lib/python3.6/dist-packages (from pandas) (2.5.3)\n",
            "Requirement already satisfied: pytz>=2011k in /usr/local/lib/python3.6/dist-packages (from pandas) (2018.9)\n",
            "Requirement already satisfied: numpy>=1.12.0 in /usr/local/lib/python3.6/dist-packages (from pandas) (1.16.4)\n",
            "Requirement already satisfied: six>=1.5 in /usr/local/lib/python3.6/dist-packages (from python-dateutil>=2.5.0->pandas) (1.12.0)\n"
          ],
          "name": "stdout"
        }
      ]
    },
    {
      "cell_type": "code",
      "metadata": {
        "id": "I3uqm1sE2qrh",
        "colab_type": "code",
        "outputId": "99bd80ee-1a7d-41da-c172-a2aaa572215f",
        "colab": {
          "base_uri": "https://localhost:8080/",
          "height": 377
        }
      },
      "source": [
        "!pip install tensorflow\n"
      ],
      "execution_count": 0,
      "outputs": [
        {
          "output_type": "stream",
          "text": [
            "Requirement already satisfied: tensorflow in /usr/local/lib/python3.6/dist-packages (1.14.0rc1)\n",
            "Requirement already satisfied: keras-applications>=1.0.6 in /usr/local/lib/python3.6/dist-packages (from tensorflow) (1.0.8)\n",
            "Requirement already satisfied: astor>=0.6.0 in /usr/local/lib/python3.6/dist-packages (from tensorflow) (0.8.0)\n",
            "Requirement already satisfied: wrapt>=1.11.1 in /usr/local/lib/python3.6/dist-packages (from tensorflow) (1.11.1)\n",
            "Requirement already satisfied: google-pasta>=0.1.6 in /usr/local/lib/python3.6/dist-packages (from tensorflow) (0.1.7)\n",
            "Requirement already satisfied: wheel>=0.26 in /usr/local/lib/python3.6/dist-packages (from tensorflow) (0.33.4)\n",
            "Requirement already satisfied: gast>=0.2.0 in /usr/local/lib/python3.6/dist-packages (from tensorflow) (0.2.2)\n",
            "Requirement already satisfied: absl-py>=0.7.0 in /usr/local/lib/python3.6/dist-packages (from tensorflow) (0.7.1)\n",
            "Requirement already satisfied: tensorboard<1.14.0,>=1.13.0 in /usr/local/lib/python3.6/dist-packages (from tensorflow) (1.13.1)\n",
            "Requirement already satisfied: grpcio>=1.8.6 in /usr/local/lib/python3.6/dist-packages (from tensorflow) (1.15.0)\n",
            "Requirement already satisfied: numpy<2.0,>=1.14.5 in /usr/local/lib/python3.6/dist-packages (from tensorflow) (1.16.4)\n",
            "Requirement already satisfied: termcolor>=1.1.0 in /usr/local/lib/python3.6/dist-packages (from tensorflow) (1.1.0)\n",
            "Requirement already satisfied: tensorflow-estimator<1.15.0rc0,>=1.14.0rc0 in /usr/local/lib/python3.6/dist-packages (from tensorflow) (1.14.0rc0)\n",
            "Requirement already satisfied: protobuf>=3.6.1 in /usr/local/lib/python3.6/dist-packages (from tensorflow) (3.7.1)\n",
            "Requirement already satisfied: keras-preprocessing>=1.0.5 in /usr/local/lib/python3.6/dist-packages (from tensorflow) (1.1.0)\n",
            "Requirement already satisfied: six>=1.10.0 in /usr/local/lib/python3.6/dist-packages (from tensorflow) (1.12.0)\n",
            "Requirement already satisfied: h5py in /usr/local/lib/python3.6/dist-packages (from keras-applications>=1.0.6->tensorflow) (2.8.0)\n",
            "Requirement already satisfied: werkzeug>=0.11.15 in /usr/local/lib/python3.6/dist-packages (from tensorboard<1.14.0,>=1.13.0->tensorflow) (0.15.4)\n",
            "Requirement already satisfied: markdown>=2.6.8 in /usr/local/lib/python3.6/dist-packages (from tensorboard<1.14.0,>=1.13.0->tensorflow) (3.1.1)\n",
            "Requirement already satisfied: setuptools in /usr/local/lib/python3.6/dist-packages (from protobuf>=3.6.1->tensorflow) (41.0.1)\n"
          ],
          "name": "stdout"
        }
      ]
    },
    {
      "cell_type": "code",
      "metadata": {
        "id": "oFLGfRcO21M0",
        "colab_type": "code",
        "colab": {}
      },
      "source": [
        "import numpy as np\n",
        "import tensorflow as tf\n",
        "import tensorflow_datasets as tfds"
      ],
      "execution_count": 0,
      "outputs": []
    },
    {
      "cell_type": "code",
      "metadata": {
        "id": "JOTKfCAk8CZA",
        "colab_type": "code",
        "colab": {}
      },
      "source": [
        "TRAIN_DATA_URL = \"\"\n",
        "#TEST_DATA_URL = \"https://storage.googleapis.com/tf-datasets/titanic/eval.csv\"\n",
        "train_file_path = tf.keras.utils.get_file(\"train.csv\", TRAIN_DATA_URL)\n",
        "#test_file_path = tf.keras.utils.get_file(\"eval.csv\", TEST_DATA_URL)"
      ],
      "execution_count": 0,
      "outputs": []
    },
    {
      "cell_type": "code",
      "metadata": {
        "id": "xBcPTYol9Alj",
        "colab_type": "code",
        "colab": {}
      },
      "source": [
        "np.set_printoptions(precision=3, suppress=True)"
      ],
      "execution_count": 0,
      "outputs": []
    },
    {
      "cell_type": "code",
      "metadata": {
        "id": "wccEyN-S9q0b",
        "colab_type": "code",
        "outputId": "570eaf85-af15-49fd-872f-272a0749c6b7",
        "colab": {
          "base_uri": "https://localhost:8080/",
          "height": 207
        }
      },
      "source": [
        "!head {train_file_path}"
      ],
      "execution_count": 0,
      "outputs": [
        {
          "output_type": "stream",
          "text": [
            "\n",
            "<!DOCTYPE html>\n",
            "<html lang=\"en\">\n",
            "  <head>\n",
            "  <meta charset=\"utf-8\">\n",
            "  <meta content=\"width=300, initial-scale=1\" name=\"viewport\">\n",
            "  <meta name=\"description\" content=\"Google Drive is a free way to keep your files backed up and easy to reach from any phone, tablet, or computer. Start with 15GB of Google storage – free.\">\n",
            "  <meta name=\"google-site-verification\" content=\"LrdTUW9psUAMbh4Ia074-BPEVmcpBxF6Gwf0MSgQXZs\">\n",
            "  <title>Meet Google Drive – One place for all your files</title>\n",
            "  <style>\n"
          ],
          "name": "stdout"
        }
      ]
    },
    {
      "cell_type": "code",
      "metadata": {
        "id": "DRGoj9Sp9vt4",
        "colab_type": "code",
        "colab": {}
      },
      "source": [
        "from google.colab import drive\n"
      ],
      "execution_count": 0,
      "outputs": []
    },
    {
      "cell_type": "code",
      "metadata": {
        "id": "VnTrEu3K_kFV",
        "colab_type": "code",
        "outputId": "70bba3d4-10f2-428e-eb94-d01ed0d5b4c5",
        "colab": {
          "base_uri": "https://localhost:8080/",
          "height": 34
        }
      },
      "source": [
        "a = 3\n",
        "b = 4\n",
        "c = a + b\n",
        "print(c)"
      ],
      "execution_count": 0,
      "outputs": [
        {
          "output_type": "stream",
          "text": [
            "7\n"
          ],
          "name": "stdout"
        }
      ]
    },
    {
      "cell_type": "code",
      "metadata": {
        "id": "HkYnqo53_uBv",
        "colab_type": "code",
        "outputId": "4b8cbb1e-a414-44c1-8e25-b967ca88d840",
        "colab": {
          "base_uri": "https://localhost:8080/",
          "height": 122
        }
      },
      "source": [
        "drive.mount('/content/drive')"
      ],
      "execution_count": 0,
      "outputs": [
        {
          "output_type": "stream",
          "text": [
            "Go to this URL in a browser: https://accounts.google.com/o/oauth2/auth?client_id=947318989803-6bn6qk8qdgf4n4g3pfee6491hc0brc4i.apps.googleusercontent.com&redirect_uri=urn%3Aietf%3Awg%3Aoauth%3A2.0%3Aoob&scope=email%20https%3A%2F%2Fwww.googleapis.com%2Fauth%2Fdocs.test%20https%3A%2F%2Fwww.googleapis.com%2Fauth%2Fdrive%20https%3A%2F%2Fwww.googleapis.com%2Fauth%2Fdrive.photos.readonly%20https%3A%2F%2Fwww.googleapis.com%2Fauth%2Fpeopleapi.readonly&response_type=code\n",
            "\n",
            "Enter your authorization code:\n",
            "··········\n",
            "Mounted at /content/drive\n"
          ],
          "name": "stdout"
        }
      ]
    },
    {
      "cell_type": "code",
      "metadata": {
        "id": "XO5qSbED_zOs",
        "colab_type": "code",
        "outputId": "4037c243-3a85-41ed-99ce-f270a17ea88e",
        "colab": {
          "base_uri": "https://localhost:8080/",
          "height": 1853
        }
      },
      "source": [
        "!ls \"/content/drive/My Drive\"\n"
      ],
      "execution_count": 0,
      "outputs": [
        {
          "output_type": "stream",
          "text": [
            " 1.PNG\n",
            " 2015ABPS0821P.jpg\n",
            " 20170714052527.pdf\n",
            "'2018_Admit_Form (Responses).gsheet'\n",
            "'2018_Admit_Form (Responses).xlsx'\n",
            " 3-2.gdoc\n",
            " 3.PNG\n",
            " 8011858_Samiran.gdoc\n",
            " AK_175_23R22_1_150821.JPG\n",
            " ANSYSACADEMICSTUDENT_162_WINX64.zip\n",
            " Assessment.gform\n",
            " Azoba\n",
            "'B99 S06'\n",
            "'Business letter (1).gdoc'\n",
            "'Business letter.gdoc'\n",
            "'CAD Model - Casting and Welding.PDF'\n",
            "'Candidate name_branch of study (1).gdoc'\n",
            "'Candidate name_branch of study.gdoc'\n",
            "\"Captain's_Contact_Details.gsheet\"\n",
            "\"Captain's_Contact_Details_problems_during_bosm.gsheet\"\n",
            " Casablanca.1942.720p.x264.YIFY.mkv\n",
            " Conference_Paper\n",
            " CONSOLIDATION\n",
            " controllers.pdf\n",
            "'Cooling Station'\n",
            "'Copy of Bumblebee.2018.720p.WEB-DL.2CH.x265.HEVC-PSA.mkv'\n",
            "'Copy of Game.of.Thrones.S08E06.720p.10bit.WEBRip.6CH.x265.HEVC-PSA.mkv'\n",
            "'Copy of Hacksaw.Ridge.2016.1080p.BluRay.x265.ShAaNiG.mkv'\n",
            "'Copy of Sully.2016.720p.BluRay.H264.AAC-RARBG[VivaLaVasta].mp4'\n",
            "'Copy of The.Ugly.Truth.2009.720p.BrRip.x264.YIFY.mp4'\n",
            "'Curriculum Vitae.gdoc'\n",
            "'data JInGEL'\n",
            "'Design and LCA of Solar Thermal Steam Generation.gdoc'\n",
            "'Design and LCA of Solar Thermal Steam Generation.pdf'\n",
            " Doc1.docx\n",
            " DOCUMENTATION-QT-TIFR.gdoc\n",
            " DOP\n",
            " DOP_Bera_Sir\n",
            "'E-mailing _Summer_Internship'\n",
            "'Final Report - Anchal.docx.gdoc'\n",
            "'Final Report - LCA of Crude Oil Production, .gdoc'\n",
            " Flipkart-APM.pdf\n",
            "'Fluid Mechanics'\n",
            "'Friends Complete Seasons 1-10 Uncut DVDRip - Englishsubs - 480p - vrxuniique'\n",
            "'GOT season 7'\n",
            "'Grievance form.pdf'\n",
            " IDEAS\n",
            " IJSRP-paper-submission-format-double-column.docx.gdoc\n",
            " IMG-20180603-WA0009.jpg\n",
            "'Independent contractor agreement.gdoc'\n",
            " Invitation_to_the_VC.gdoc\n",
            " Jacket_Sizes.gsheet\n",
            " jersey_details_team.gsheet\n",
            "'jobs (1).gdoc'\n",
            " jobs.gdoc\n",
            " JSS-Proof.gdoc\n",
            " k-means-pnp.ipynb\n",
            "'Lab Report.gslides'\n",
            " LCA_of_Crude_Oil_Production.gslides\n",
            "'Learning before Summer Internship.gslides'\n",
            " Letter.gdoc\n",
            " LetterOfAuthorization.gdoc\n",
            " No_pan_Card.gdoc\n",
            " OOP\n",
            "'OOP slides'\n",
            " PRESENTATION.gslides\n",
            "'Process Diagram.gslides'\n",
            "'Project Presentation - Lab Oriented Project.gslides'\n",
            " PS-1\n",
            " PS-2\n",
            "'Putzmeister Application.gslides'\n",
            "'Report (1).gdoc'\n",
            "'Report (2).gdoc'\n",
            " Report.gdoc\n",
            " REPORT.gdoc\n",
            " Resume.gdoc\n",
            " Robotics\n",
            "'robotics-vision-and-control-fundamental-peter-corke(www.ebook-dl.com).pdf'\n",
            " Samiran_BITS_Pilani.gslides\n",
            " Samiran_Manufacturing_Core.pdf\n",
            " Samiran_Manufacturing_IT.pdf\n",
            " Sample_Contact_Sheet.gsheet\n",
            " SCM_project_proof.gdoc\n",
            "'Season 1'\n",
            " SOP\n",
            " Sports_Engineering\n",
            "'Sports_Engineering (1)'\n",
            " Sports_Engineering_Assignment_1.gdoc\n",
            "'STAR Testimonial Template.docx'\n",
            "'State of the Art in Surgical Robotics Clinical Applications and Technology Challenges.pdf'\n",
            "'Sustainability Analysis of Oil & Gas Supply Chain.gslides'\n",
            " Sustainable_Project\n",
            "'Take home assignment - LLP.gdoc'\n",
            "'Tentative Schedule for the Inaugration.gdoc'\n",
            "'Thesis Application.gdoc'\n",
            "'Thesis Mail.gdoc'\n",
            "'thomas calculus 748.PDF'\n",
            " Transcript-BITS-1.pdf\n",
            " transcript-details.pdf\n",
            " Trash\n",
            "'Unsupervised using Deep learning.gslides'\n",
            "'Untitled document.gdoc'\n",
            "'Untitled form.gform'\n",
            "'Untitled form (Responses).gsheet'\n",
            " Untitled.pdf\n",
            "'Untitled presentation.gslides'\n",
            " Walmart_project_proof.gdoc\n",
            " with_clocktower.jpg\n"
          ],
          "name": "stdout"
        }
      ]
    },
    {
      "cell_type": "code",
      "metadata": {
        "id": "GccGu2INAMvD",
        "colab_type": "code",
        "outputId": "733dc32b-66ce-4af1-92b8-56df0b5977a1",
        "colab": {
          "base_uri": "https://localhost:8080/",
          "height": 34
        }
      },
      "source": [
        "!cd 'data JInGEL'"
      ],
      "execution_count": 0,
      "outputs": [
        {
          "output_type": "stream",
          "text": [
            "/bin/bash: line 0: cd: data JInGEL: No such file or directory\n"
          ],
          "name": "stdout"
        }
      ]
    },
    {
      "cell_type": "code",
      "metadata": {
        "id": "dp_HHHQwAnbE",
        "colab_type": "code",
        "outputId": "bb744cda-69f7-4cbd-d513-7b93a996effe",
        "colab": {
          "base_uri": "https://localhost:8080/",
          "height": 34
        }
      },
      "source": [
        "!cd \"data JInGEL\""
      ],
      "execution_count": 0,
      "outputs": [
        {
          "output_type": "stream",
          "text": [
            "/bin/bash: line 0: cd: data JInGEL: No such file or directory\n"
          ],
          "name": "stdout"
        }
      ]
    },
    {
      "cell_type": "code",
      "metadata": {
        "id": "he8MuAkzAtEH",
        "colab_type": "code",
        "outputId": "9e8fad5d-5904-436e-af2b-86cd9295592c",
        "colab": {
          "base_uri": "https://localhost:8080/",
          "height": 204
        }
      },
      "source": [
        "!ls \"/content/drive/My Drive/data JInGEL\""
      ],
      "execution_count": 0,
      "outputs": [
        {
          "output_type": "stream",
          "text": [
            "'20181002_record_training 2x12 and test 1x12.csv'\n",
            " 20181031_pickandplace_18-18.csv\n",
            " 20181102_pickandplace_18-18_pure.csv\n",
            "'20181102_pickandplace_training_and_test_data - Copy.csv'\n",
            " 20181102_pickandplace_training_and_test_data.csv\n",
            "'data JInGEL'\n",
            "'pickandplace_training_and_test_data - Copy (2) - Copy.xlsx'\n",
            "'pickandplace_training_and_test_data - Copy (2).csv'\n",
            " training_without_labels.csv\n",
            " training_without_labels.gsheet\n",
            " training.xlsx\n"
          ],
          "name": "stdout"
        }
      ]
    },
    {
      "cell_type": "code",
      "metadata": {
        "id": "SxE1ynqhBbgr",
        "colab_type": "code",
        "outputId": "fc347451-9953-49ae-c6a3-3bc38bf1954b",
        "colab": {
          "base_uri": "https://localhost:8080/",
          "height": 51
        }
      },
      "source": [
        "!cp \"/content/drive/My Drive/data JInGEL/training_without_labels.csv\""
      ],
      "execution_count": 0,
      "outputs": [
        {
          "output_type": "stream",
          "text": [
            "cp: missing destination file operand after '/content/drive/My Drive/data JInGEL/training_without_labels.csv'\n",
            "Try 'cp --help' for more information.\n"
          ],
          "name": "stdout"
        }
      ]
    },
    {
      "cell_type": "code",
      "metadata": {
        "id": "4iPoyh-uBy_f",
        "colab_type": "code",
        "colab": {}
      },
      "source": [
        "TRAIN_DATA_URL = \"/content/drive/My Drive/data JInGEL/training_without_labels.csv\"\n",
        "#TEST_DATA_URL = \"https://storage.googleapis.com/tf-datasets/titanic/eval.csv\"\n",
        "train_file_path = tf.keras.utils.get_file(\"train.csv\", TRAIN_DATA_URL)\n",
        "#test_file_path = tf.keras.utils.get_file(\"eval.csv\", TEST_DATA_URL)"
      ],
      "execution_count": 0,
      "outputs": []
    },
    {
      "cell_type": "code",
      "metadata": {
        "id": "HAeTYhEdCLKR",
        "colab_type": "code",
        "outputId": "39fc547f-63e0-4347-a271-3a3178b03fa6",
        "colab": {
          "base_uri": "https://localhost:8080/",
          "height": 207
        }
      },
      "source": [
        "!head {train_file_path}\n"
      ],
      "execution_count": 0,
      "outputs": [
        {
          "output_type": "stream",
          "text": [
            "\n",
            "<!DOCTYPE html>\n",
            "<html lang=\"en\">\n",
            "  <head>\n",
            "  <meta charset=\"utf-8\">\n",
            "  <meta content=\"width=300, initial-scale=1\" name=\"viewport\">\n",
            "  <meta name=\"description\" content=\"Google Drive is a free way to keep your files backed up and easy to reach from any phone, tablet, or computer. Start with 15GB of Google storage – free.\">\n",
            "  <meta name=\"google-site-verification\" content=\"LrdTUW9psUAMbh4Ia074-BPEVmcpBxF6Gwf0MSgQXZs\">\n",
            "  <title>Meet Google Drive – One place for all your files</title>\n",
            "  <style>\n"
          ],
          "name": "stdout"
        }
      ]
    },
    {
      "cell_type": "code",
      "metadata": {
        "id": "bWo4rdtOCUo8",
        "colab_type": "code",
        "colab": {}
      },
      "source": [
        "!cp \"/content/drive/My Drive/data JInGEL/training_without_labels.csv\" \"train.csv\""
      ],
      "execution_count": 0,
      "outputs": []
    },
    {
      "cell_type": "code",
      "metadata": {
        "id": "obaSOYQiCcHD",
        "colab_type": "code",
        "outputId": "29e6ea14-1ef2-450f-8157-9e999a03aba4",
        "colab": {
          "base_uri": "https://localhost:8080/",
          "height": 34
        }
      },
      "source": [
        "!ls"
      ],
      "execution_count": 0,
      "outputs": [
        {
          "output_type": "stream",
          "text": [
            "drive  sample_data  train.csv\n"
          ],
          "name": "stdout"
        }
      ]
    },
    {
      "cell_type": "code",
      "metadata": {
        "id": "jgThhOuECvbg",
        "colab_type": "code",
        "colab": {}
      },
      "source": [
        "TRAIN_DATA_URL = \"/content/train.csv\"\n",
        "#TEST_DATA_URL = \"https://storage.googleapis.com/tf-datasets/titanic/eval.csv\"\n",
        "train_file_path = tf.keras.utils.get_file(\"train.csv\", TRAIN_DATA_URL)\n",
        "#test_file_path = tf.keras.utils.get_file(\"eval.csv\", TEST_DATA_URL)"
      ],
      "execution_count": 0,
      "outputs": []
    },
    {
      "cell_type": "code",
      "metadata": {
        "id": "GLB0NnAuC-WN",
        "colab_type": "code",
        "outputId": "a5992879-6c1f-46f3-b8c0-8c6d4741a2b9",
        "colab": {
          "base_uri": "https://localhost:8080/",
          "height": 34
        }
      },
      "source": [
        "!head{train_file_path}"
      ],
      "execution_count": 0,
      "outputs": [
        {
          "output_type": "stream",
          "text": [
            "/bin/bash: head/root/.keras/datasets/train.csv: No such file or directory\n"
          ],
          "name": "stdout"
        }
      ]
    },
    {
      "cell_type": "code",
      "metadata": {
        "id": "vn4zzxXPDEQi",
        "colab_type": "code",
        "outputId": "be1c878c-fa55-4443-ae82-bea95bd8d3ea",
        "colab": {
          "base_uri": "https://localhost:8080/",
          "height": 34
        }
      },
      "source": [
        "!ls\n"
      ],
      "execution_count": 0,
      "outputs": [
        {
          "output_type": "stream",
          "text": [
            "drive  sample_data  train.csv\n"
          ],
          "name": "stdout"
        }
      ]
    },
    {
      "cell_type": "code",
      "metadata": {
        "id": "1VOie3ZaDK_J",
        "colab_type": "code",
        "outputId": "b32eaf75-69f5-4910-c1ca-624b82e0fb17",
        "colab": {
          "base_uri": "https://localhost:8080/",
          "height": 34
        }
      },
      "source": [
        "!ls\n"
      ],
      "execution_count": 0,
      "outputs": [
        {
          "output_type": "stream",
          "text": [
            "sample_data\n"
          ],
          "name": "stdout"
        }
      ]
    },
    {
      "cell_type": "code",
      "metadata": {
        "id": "EeSa8Ir0cNvg",
        "colab_type": "code",
        "outputId": "c5730f62-616b-429c-a3c4-51629245d442",
        "colab": {
          "base_uri": "https://localhost:8080/",
          "height": 377
        }
      },
      "source": [
        "!pip install tensorflow"
      ],
      "execution_count": 0,
      "outputs": [
        {
          "output_type": "stream",
          "text": [
            "Requirement already satisfied: tensorflow in /usr/local/lib/python3.6/dist-packages (1.14.0rc1)\n",
            "Requirement already satisfied: keras-applications>=1.0.6 in /usr/local/lib/python3.6/dist-packages (from tensorflow) (1.0.8)\n",
            "Requirement already satisfied: grpcio>=1.8.6 in /usr/local/lib/python3.6/dist-packages (from tensorflow) (1.15.0)\n",
            "Requirement already satisfied: gast>=0.2.0 in /usr/local/lib/python3.6/dist-packages (from tensorflow) (0.2.2)\n",
            "Requirement already satisfied: tensorboard<1.14.0,>=1.13.0 in /usr/local/lib/python3.6/dist-packages (from tensorflow) (1.13.1)\n",
            "Requirement already satisfied: termcolor>=1.1.0 in /usr/local/lib/python3.6/dist-packages (from tensorflow) (1.1.0)\n",
            "Requirement already satisfied: six>=1.10.0 in /usr/local/lib/python3.6/dist-packages (from tensorflow) (1.12.0)\n",
            "Requirement already satisfied: wrapt>=1.11.1 in /usr/local/lib/python3.6/dist-packages (from tensorflow) (1.11.1)\n",
            "Requirement already satisfied: tensorflow-estimator<1.15.0rc0,>=1.14.0rc0 in /usr/local/lib/python3.6/dist-packages (from tensorflow) (1.14.0rc0)\n",
            "Requirement already satisfied: astor>=0.6.0 in /usr/local/lib/python3.6/dist-packages (from tensorflow) (0.8.0)\n",
            "Requirement already satisfied: keras-preprocessing>=1.0.5 in /usr/local/lib/python3.6/dist-packages (from tensorflow) (1.1.0)\n",
            "Requirement already satisfied: wheel>=0.26 in /usr/local/lib/python3.6/dist-packages (from tensorflow) (0.33.4)\n",
            "Requirement already satisfied: numpy<2.0,>=1.14.5 in /usr/local/lib/python3.6/dist-packages (from tensorflow) (1.16.4)\n",
            "Requirement already satisfied: protobuf>=3.6.1 in /usr/local/lib/python3.6/dist-packages (from tensorflow) (3.7.1)\n",
            "Requirement already satisfied: google-pasta>=0.1.6 in /usr/local/lib/python3.6/dist-packages (from tensorflow) (0.1.7)\n",
            "Requirement already satisfied: absl-py>=0.7.0 in /usr/local/lib/python3.6/dist-packages (from tensorflow) (0.7.1)\n",
            "Requirement already satisfied: h5py in /usr/local/lib/python3.6/dist-packages (from keras-applications>=1.0.6->tensorflow) (2.8.0)\n",
            "Requirement already satisfied: werkzeug>=0.11.15 in /usr/local/lib/python3.6/dist-packages (from tensorboard<1.14.0,>=1.13.0->tensorflow) (0.15.4)\n",
            "Requirement already satisfied: markdown>=2.6.8 in /usr/local/lib/python3.6/dist-packages (from tensorboard<1.14.0,>=1.13.0->tensorflow) (3.1.1)\n",
            "Requirement already satisfied: setuptools in /usr/local/lib/python3.6/dist-packages (from protobuf>=3.6.1->tensorflow) (41.0.1)\n"
          ],
          "name": "stdout"
        }
      ]
    },
    {
      "cell_type": "code",
      "metadata": {
        "id": "EslN_ma-cZQ_",
        "colab_type": "code",
        "colab": {}
      },
      "source": [
        "import numpy as np\n",
        "import tensorflow as tf\n",
        "import tensorflow_datasets as tfds\n",
        "import pandas as pd"
      ],
      "execution_count": 0,
      "outputs": []
    },
    {
      "cell_type": "code",
      "metadata": {
        "id": "PlnH22Dccvyb",
        "colab_type": "code",
        "colab": {}
      },
      "source": [
        "from google.colab import drive\n"
      ],
      "execution_count": 0,
      "outputs": []
    },
    {
      "cell_type": "code",
      "metadata": {
        "id": "CLb7QWPJd3e5",
        "colab_type": "code",
        "outputId": "ca5839e2-be5a-40f1-abad-3102fe99b223",
        "colab": {
          "base_uri": "https://localhost:8080/",
          "height": 122
        }
      },
      "source": [
        "drive.mount('/content/drive')"
      ],
      "execution_count": 5,
      "outputs": [
        {
          "output_type": "stream",
          "text": [
            "Go to this URL in a browser: https://accounts.google.com/o/oauth2/auth?client_id=947318989803-6bn6qk8qdgf4n4g3pfee6491hc0brc4i.apps.googleusercontent.com&redirect_uri=urn%3Aietf%3Awg%3Aoauth%3A2.0%3Aoob&scope=email%20https%3A%2F%2Fwww.googleapis.com%2Fauth%2Fdocs.test%20https%3A%2F%2Fwww.googleapis.com%2Fauth%2Fdrive%20https%3A%2F%2Fwww.googleapis.com%2Fauth%2Fdrive.photos.readonly%20https%3A%2F%2Fwww.googleapis.com%2Fauth%2Fpeopleapi.readonly&response_type=code\n",
            "\n",
            "Enter your authorization code:\n",
            "··········\n",
            "Mounted at /content/drive\n"
          ],
          "name": "stdout"
        }
      ]
    },
    {
      "cell_type": "code",
      "metadata": {
        "id": "ulKK_MxSd9rG",
        "colab_type": "code",
        "outputId": "cfa9420c-df9e-471f-ea82-ad9d72729a2e",
        "colab": {
          "base_uri": "https://localhost:8080/",
          "height": 34
        }
      },
      "source": [
        "!ls"
      ],
      "execution_count": 5,
      "outputs": [
        {
          "output_type": "stream",
          "text": [
            "drive  sample_data\n"
          ],
          "name": "stdout"
        }
      ]
    },
    {
      "cell_type": "code",
      "metadata": {
        "id": "N5c_f4GrejIF",
        "colab_type": "code",
        "outputId": "96e8f1e6-5abd-41a7-8af5-55874ae6b791",
        "colab": {
          "base_uri": "https://localhost:8080/",
          "height": 51
        }
      },
      "source": [
        "!ls (/content/drive)"
      ],
      "execution_count": 0,
      "outputs": [
        {
          "output_type": "stream",
          "text": [
            "/bin/bash: -c: line 0: syntax error near unexpected token `/content/drive'\n",
            "/bin/bash: -c: line 0: `ls (/content/drive)'\n"
          ],
          "name": "stdout"
        }
      ]
    },
    {
      "cell_type": "code",
      "metadata": {
        "id": "bq1sU7lueppf",
        "colab_type": "code",
        "outputId": "19323752-669d-4c61-9600-30e80e9f8ba1",
        "colab": {
          "base_uri": "https://localhost:8080/",
          "height": 34
        }
      },
      "source": [
        "!ls \"/content/drive\""
      ],
      "execution_count": 0,
      "outputs": [
        {
          "output_type": "stream",
          "text": [
            "'My Drive'\n"
          ],
          "name": "stdout"
        }
      ]
    },
    {
      "cell_type": "code",
      "metadata": {
        "id": "K1Drihutew5f",
        "colab_type": "code",
        "outputId": "f12771f7-b88d-46e4-e2af-0b3e96824bbf",
        "colab": {
          "base_uri": "https://localhost:8080/",
          "height": 34
        }
      },
      "source": [
        "!ls\"/content/drive/My Drive\""
      ],
      "execution_count": 0,
      "outputs": [
        {
          "output_type": "stream",
          "text": [
            "/bin/bash: ls/content/drive/My Drive: No such file or directory\n"
          ],
          "name": "stdout"
        }
      ]
    },
    {
      "cell_type": "code",
      "metadata": {
        "id": "uSvbc8RSe4Sg",
        "colab_type": "code",
        "outputId": "7f3f47e3-e003-4986-97a7-82635de300dc",
        "colab": {
          "base_uri": "https://localhost:8080/",
          "height": 1853
        }
      },
      "source": [
        "!ls \"/content/drive/My Drive\""
      ],
      "execution_count": 0,
      "outputs": [
        {
          "output_type": "stream",
          "text": [
            " 1.PNG\n",
            " 2015ABPS0821P.jpg\n",
            " 20170714052527.pdf\n",
            "'2018_Admit_Form (Responses).gsheet'\n",
            "'2018_Admit_Form (Responses).xlsx'\n",
            " 3-2.gdoc\n",
            " 3.PNG\n",
            " 8011858_Samiran.gdoc\n",
            " AK_175_23R22_1_150821.JPG\n",
            " ANSYSACADEMICSTUDENT_162_WINX64.zip\n",
            " Assessment.gform\n",
            " Azoba\n",
            "'B99 S06'\n",
            "'Business letter (1).gdoc'\n",
            "'Business letter.gdoc'\n",
            "'CAD Model - Casting and Welding.PDF'\n",
            "'Candidate name_branch of study (1).gdoc'\n",
            "'Candidate name_branch of study.gdoc'\n",
            "\"Captain's_Contact_Details.gsheet\"\n",
            "\"Captain's_Contact_Details_problems_during_bosm.gsheet\"\n",
            " Casablanca.1942.720p.x264.YIFY.mkv\n",
            " Conference_Paper\n",
            " CONSOLIDATION\n",
            " controllers.pdf\n",
            "'Cooling Station'\n",
            "'Copy of Bumblebee.2018.720p.WEB-DL.2CH.x265.HEVC-PSA.mkv'\n",
            "'Copy of Game.of.Thrones.S08E06.720p.10bit.WEBRip.6CH.x265.HEVC-PSA.mkv'\n",
            "'Copy of Hacksaw.Ridge.2016.1080p.BluRay.x265.ShAaNiG.mkv'\n",
            "'Copy of Sully.2016.720p.BluRay.H264.AAC-RARBG[VivaLaVasta].mp4'\n",
            "'Copy of The.Ugly.Truth.2009.720p.BrRip.x264.YIFY.mp4'\n",
            "'Curriculum Vitae.gdoc'\n",
            "'data JInGEL'\n",
            "'Design and LCA of Solar Thermal Steam Generation.gdoc'\n",
            "'Design and LCA of Solar Thermal Steam Generation.pdf'\n",
            " Doc1.docx\n",
            " DOCUMENTATION-QT-TIFR.gdoc\n",
            " DOP\n",
            " DOP_Bera_Sir\n",
            "'E-mailing _Summer_Internship'\n",
            "'Final Report - Anchal.docx.gdoc'\n",
            "'Final Report - LCA of Crude Oil Production, .gdoc'\n",
            " Flipkart-APM.pdf\n",
            "'Fluid Mechanics'\n",
            "'Friends Complete Seasons 1-10 Uncut DVDRip - Englishsubs - 480p - vrxuniique'\n",
            "'GOT season 7'\n",
            "'Grievance form.pdf'\n",
            " IDEAS\n",
            " IJSRP-paper-submission-format-double-column.docx.gdoc\n",
            " IMG-20180603-WA0009.jpg\n",
            "'Independent contractor agreement.gdoc'\n",
            " Invitation_to_the_VC.gdoc\n",
            " Jacket_Sizes.gsheet\n",
            " jersey_details_team.gsheet\n",
            "'jobs (1).gdoc'\n",
            " jobs.gdoc\n",
            " JSS-Proof.gdoc\n",
            " k-means-pnp.ipynb\n",
            "'Lab Report.gslides'\n",
            " LCA_of_Crude_Oil_Production.gslides\n",
            "'Learning before Summer Internship.gslides'\n",
            " Letter.gdoc\n",
            " LetterOfAuthorization.gdoc\n",
            " No_pan_Card.gdoc\n",
            " OOP\n",
            "'OOP slides'\n",
            " PRESENTATION.gslides\n",
            "'Process Diagram.gslides'\n",
            "'Project Presentation - Lab Oriented Project.gslides'\n",
            " PS-1\n",
            " PS-2\n",
            "'Putzmeister Application.gslides'\n",
            "'Report (1).gdoc'\n",
            "'Report (2).gdoc'\n",
            " Report.gdoc\n",
            " REPORT.gdoc\n",
            " Resume.gdoc\n",
            " Robotics\n",
            "'robotics-vision-and-control-fundamental-peter-corke(www.ebook-dl.com).pdf'\n",
            " Samiran_BITS_Pilani.gslides\n",
            " Samiran_Manufacturing_Core.pdf\n",
            " Samiran_Manufacturing_IT.pdf\n",
            " Sample_Contact_Sheet.gsheet\n",
            " SCM_project_proof.gdoc\n",
            "'Season 1'\n",
            " SOP\n",
            " Sports_Engineering\n",
            "'Sports_Engineering (1)'\n",
            " Sports_Engineering_Assignment_1.gdoc\n",
            "'STAR Testimonial Template.docx'\n",
            "'State of the Art in Surgical Robotics Clinical Applications and Technology Challenges.pdf'\n",
            "'Sustainability Analysis of Oil & Gas Supply Chain.gslides'\n",
            " Sustainable_Project\n",
            "'Take home assignment - LLP.gdoc'\n",
            "'Tentative Schedule for the Inaugration.gdoc'\n",
            "'Thesis Application.gdoc'\n",
            "'Thesis Mail.gdoc'\n",
            "'thomas calculus 748.PDF'\n",
            " Transcript-BITS-1.pdf\n",
            " transcript-details.pdf\n",
            " Trash\n",
            "'Unsupervised using Deep learning.gslides'\n",
            "'Untitled document.gdoc'\n",
            "'Untitled form.gform'\n",
            "'Untitled form (Responses).gsheet'\n",
            " Untitled.pdf\n",
            "'Untitled presentation.gslides'\n",
            " Walmart_project_proof.gdoc\n",
            " with_clocktower.jpg\n"
          ],
          "name": "stdout"
        }
      ]
    },
    {
      "cell_type": "code",
      "metadata": {
        "id": "WW_JXqT0f-qI",
        "colab_type": "code",
        "outputId": "46ffcb90-b7a0-4564-da04-f834218aebfb",
        "colab": {
          "base_uri": "https://localhost:8080/",
          "height": 204
        }
      },
      "source": [
        "!ls \"/content/drive/My Drive/data JInGEL\""
      ],
      "execution_count": 0,
      "outputs": [
        {
          "output_type": "stream",
          "text": [
            "'20181002_record_training 2x12 and test 1x12.csv'\n",
            " 20181031_pickandplace_18-18.csv\n",
            " 20181102_pickandplace_18-18_pure.csv\n",
            "'20181102_pickandplace_training_and_test_data - Copy.csv'\n",
            " 20181102_pickandplace_training_and_test_data.csv\n",
            "'data JInGEL'\n",
            "'pickandplace_training_and_test_data - Copy (2) - Copy.xlsx'\n",
            "'pickandplace_training_and_test_data - Copy (2).csv'\n",
            " training_without_labels.csv\n",
            " training_without_labels.gsheet\n",
            " training.xlsx\n"
          ],
          "name": "stdout"
        }
      ]
    },
    {
      "cell_type": "code",
      "metadata": {
        "id": "AI9xQQJqhAFh",
        "colab_type": "code",
        "colab": {
          "base_uri": "https://localhost:8080/",
          "height": 119
        },
        "outputId": "0ba9e961-522f-42a5-f3d1-bcd870849c08"
      },
      "source": [
        "trainDf = pd.read_csv(\"/content/drive/My Drive/data JInGEL/training_without_labels.csv\")\n",
        "train   = pd.read_csv(\"/content/drive/My Drive/data JInGEL/training.csv\")\n",
        "#train.head()\n",
        "data_label = train['label']\n",
        "data_label.head()"
      ],
      "execution_count": 19,
      "outputs": [
        {
          "output_type": "execute_result",
          "data": {
            "text/plain": [
              "0    0\n",
              "1    0\n",
              "2    0\n",
              "3    0\n",
              "4    0\n",
              "Name: label, dtype: int64"
            ]
          },
          "metadata": {
            "tags": []
          },
          "execution_count": 19
        }
      ]
    },
    {
      "cell_type": "code",
      "metadata": {
        "id": "UQpbOAvXhRkL",
        "colab_type": "code",
        "outputId": "f72beb3a-15cf-4ff1-9a4f-bfba19275750",
        "colab": {
          "base_uri": "https://localhost:8080/",
          "height": 34
        }
      },
      "source": [
        "!ls"
      ],
      "execution_count": 7,
      "outputs": [
        {
          "output_type": "stream",
          "text": [
            "drive  sample_data\n"
          ],
          "name": "stdout"
        }
      ]
    },
    {
      "cell_type": "code",
      "metadata": {
        "id": "Dpy4p7vm0wfN",
        "colab_type": "code",
        "outputId": "b4365806-8184-42db-ff66-ce92deeab403",
        "colab": {
          "base_uri": "https://localhost:8080/",
          "height": 34
        }
      },
      "source": [
        "!ls"
      ],
      "execution_count": 0,
      "outputs": [
        {
          "output_type": "stream",
          "text": [
            "drive  sample_data\n"
          ],
          "name": "stdout"
        }
      ]
    },
    {
      "cell_type": "code",
      "metadata": {
        "id": "8oM_jANI5tDh",
        "colab_type": "code",
        "outputId": "383106b8-8a20-441a-f2cf-c02ab0b81391",
        "colab": {
          "base_uri": "https://localhost:8080/",
          "height": 204
        }
      },
      "source": [
        "trainDf.head()"
      ],
      "execution_count": 8,
      "outputs": [
        {
          "output_type": "execute_result",
          "data": {
            "text/html": [
              "<div>\n",
              "<style scoped>\n",
              "    .dataframe tbody tr th:only-of-type {\n",
              "        vertical-align: middle;\n",
              "    }\n",
              "\n",
              "    .dataframe tbody tr th {\n",
              "        vertical-align: top;\n",
              "    }\n",
              "\n",
              "    .dataframe thead th {\n",
              "        text-align: right;\n",
              "    }\n",
              "</style>\n",
              "<table border=\"1\" class=\"dataframe\">\n",
              "  <thead>\n",
              "    <tr style=\"text-align: right;\">\n",
              "      <th></th>\n",
              "      <th>power</th>\n",
              "      <th>energy</th>\n",
              "      <th>current</th>\n",
              "      <th>compair</th>\n",
              "      <th>compair_avg</th>\n",
              "    </tr>\n",
              "  </thead>\n",
              "  <tbody>\n",
              "    <tr>\n",
              "      <th>0</th>\n",
              "      <td>10.500</td>\n",
              "      <td>211.277</td>\n",
              "      <td>0.093746</td>\n",
              "      <td>6.59078</td>\n",
              "      <td>6.53559</td>\n",
              "    </tr>\n",
              "    <tr>\n",
              "      <th>1</th>\n",
              "      <td>10.475</td>\n",
              "      <td>211.262</td>\n",
              "      <td>0.093854</td>\n",
              "      <td>6.59542</td>\n",
              "      <td>6.53799</td>\n",
              "    </tr>\n",
              "    <tr>\n",
              "      <th>2</th>\n",
              "      <td>10.475</td>\n",
              "      <td>211.262</td>\n",
              "      <td>0.092661</td>\n",
              "      <td>6.57393</td>\n",
              "      <td>6.54026</td>\n",
              "    </tr>\n",
              "    <tr>\n",
              "      <th>3</th>\n",
              "      <td>10.475</td>\n",
              "      <td>211.249</td>\n",
              "      <td>0.092985</td>\n",
              "      <td>6.52779</td>\n",
              "      <td>6.54273</td>\n",
              "    </tr>\n",
              "    <tr>\n",
              "      <th>4</th>\n",
              "      <td>10.475</td>\n",
              "      <td>211.224</td>\n",
              "      <td>0.092661</td>\n",
              "      <td>6.50264</td>\n",
              "      <td>6.54523</td>\n",
              "    </tr>\n",
              "  </tbody>\n",
              "</table>\n",
              "</div>"
            ],
            "text/plain": [
              "    power   energy   current  compair  compair_avg\n",
              "0  10.500  211.277  0.093746  6.59078      6.53559\n",
              "1  10.475  211.262  0.093854  6.59542      6.53799\n",
              "2  10.475  211.262  0.092661  6.57393      6.54026\n",
              "3  10.475  211.249  0.092985  6.52779      6.54273\n",
              "4  10.475  211.224  0.092661  6.50264      6.54523"
            ]
          },
          "metadata": {
            "tags": []
          },
          "execution_count": 8
        }
      ]
    },
    {
      "cell_type": "code",
      "metadata": {
        "id": "i_1IRaSJ5_To",
        "colab_type": "code",
        "colab": {}
      },
      "source": [
        "ktrain_data = tf.convert_to_tensor(trainDf)"
      ],
      "execution_count": 0,
      "outputs": []
    },
    {
      "cell_type": "code",
      "metadata": {
        "id": "ouHFu6b6_5mQ",
        "colab_type": "code",
        "outputId": "e5a43038-590d-4db9-d418-ff3467cfa10a",
        "colab": {
          "base_uri": "https://localhost:8080/",
          "height": 163
        }
      },
      "source": [
        "ktrain_data.head()"
      ],
      "execution_count": 9,
      "outputs": [
        {
          "output_type": "error",
          "ename": "AttributeError",
          "evalue": "ignored",
          "traceback": [
            "\u001b[0;31m---------------------------------------------------------------------------\u001b[0m",
            "\u001b[0;31mAttributeError\u001b[0m                            Traceback (most recent call last)",
            "\u001b[0;32m<ipython-input-9-2d27f570a938>\u001b[0m in \u001b[0;36m<module>\u001b[0;34m()\u001b[0m\n\u001b[0;32m----> 1\u001b[0;31m \u001b[0mktrain_data\u001b[0m\u001b[0;34m.\u001b[0m\u001b[0mhead\u001b[0m\u001b[0;34m(\u001b[0m\u001b[0;34m)\u001b[0m\u001b[0;34m\u001b[0m\u001b[0;34m\u001b[0m\u001b[0m\n\u001b[0m",
            "\u001b[0;31mAttributeError\u001b[0m: 'Tensor' object has no attribute 'head'"
          ]
        }
      ]
    },
    {
      "cell_type": "code",
      "metadata": {
        "id": "JjzTDLog_9qq",
        "colab_type": "code",
        "outputId": "e5e24337-9899-4ae3-fb83-85dd17e7970c",
        "colab": {
          "base_uri": "https://localhost:8080/",
          "height": 163
        }
      },
      "source": [
        "print(ktrain_data.shape)"
      ],
      "execution_count": 9,
      "outputs": [
        {
          "output_type": "error",
          "ename": "NameError",
          "evalue": "ignored",
          "traceback": [
            "\u001b[0;31m---------------------------------------------------------------------------\u001b[0m",
            "\u001b[0;31mNameError\u001b[0m                                 Traceback (most recent call last)",
            "\u001b[0;32m<ipython-input-9-bd56a63e6c0c>\u001b[0m in \u001b[0;36m<module>\u001b[0;34m()\u001b[0m\n\u001b[0;32m----> 1\u001b[0;31m \u001b[0mprint\u001b[0m\u001b[0;34m(\u001b[0m\u001b[0mktrain_data\u001b[0m\u001b[0;34m.\u001b[0m\u001b[0mshape\u001b[0m\u001b[0;34m)\u001b[0m\u001b[0;34m\u001b[0m\u001b[0;34m\u001b[0m\u001b[0m\n\u001b[0m",
            "\u001b[0;31mNameError\u001b[0m: name 'ktrain_data' is not defined"
          ]
        }
      ]
    },
    {
      "cell_type": "code",
      "metadata": {
        "id": "ZgsyiPQCAPPM",
        "colab_type": "code",
        "colab": {
          "base_uri": "https://localhost:8080/",
          "height": 265
        },
        "outputId": "3a097400-de1e-4ebd-c0bc-e4626a98c570"
      },
      "source": [
        "from mpl_toolkits import mplot3d\n",
        "import matplotlib.pyplot as plt\n",
        "fig = plt.figure()\n",
        "ax = plt.axes(projection='3d')\n",
        "\n",
        "X = np.array(trainDf['power'])\n",
        "Y = np.array(trainDf['current'])\n",
        "Z = np.array(trainDf['compair_avg'])\n",
        "\n",
        "ax.scatter3D(X, Y, Z, c=Z, edgecolor = 'none')"
      ],
      "execution_count": 12,
      "outputs": [
        {
          "output_type": "execute_result",
          "data": {
            "text/plain": [
              "<mpl_toolkits.mplot3d.art3d.Path3DCollection at 0x7f055fd32518>"
            ]
          },
          "metadata": {
            "tags": []
          },
          "execution_count": 12
        },
        {
          "output_type": "display_data",
          "data": {
            "image/png": "[encoded data removed]",
            "text/plain": [
              "<Figure size 432x288 with 1 Axes>"
            ]
          },
          "metadata": {
            "tags": []
          }
        }
      ]
    },
    {
      "cell_type": "code",
      "metadata": {
        "id": "HddvJHaOGdWD",
        "colab_type": "code",
        "colab": {
          "base_uri": "https://localhost:8080/",
          "height": 286
        },
        "outputId": "9b8545a5-2789-4dd1-fe40-d9602440c816"
      },
      "source": [
        "plt.scatter(X, Z, marker ='o')"
      ],
      "execution_count": 13,
      "outputs": [
        {
          "output_type": "execute_result",
          "data": {
            "text/plain": [
              "<matplotlib.collections.PathCollection at 0x7f055e411860>"
            ]
          },
          "metadata": {
            "tags": []
          },
          "execution_count": 13
        },
        {
          "output_type": "display_data",
          "data": {
            "image/png": "[encoded data removed]",
            "text/plain": [
              "<Figure size 432x288 with 1 Axes>"
            ]
          },
          "metadata": {
            "tags": []
          }
        }
      ]
    },
    {
      "cell_type": "code",
      "metadata": {
        "id": "_Pqxq9_zrSCi",
        "colab_type": "code",
        "colab": {
          "base_uri": "https://localhost:8080/",
          "height": 34
        },
        "outputId": "302090ab-e4b8-43e9-f267-1878ac26cfe0"
      },
      "source": [
        "from sklearn.cluster import KMeans\n",
        "kmeans = KMeans(n_clusters=4)\n",
        "kmeans.fit(trainDf[['power','current','compair_avg']])\n",
        "y_kmeans = kmeans.predict(trainDf[['power','current','compair_avg']])\n",
        "kmeans.cluster_centers_.shape"
      ],
      "execution_count": 27,
      "outputs": [
        {
          "output_type": "execute_result",
          "data": {
            "text/plain": [
              "(4, 3)"
            ]
          },
          "metadata": {
            "tags": []
          },
          "execution_count": 27
        }
      ]
    },
    {
      "cell_type": "code",
      "metadata": {
        "id": "dBStyhibd2Ll",
        "colab_type": "code",
        "colab": {
          "base_uri": "https://localhost:8080/",
          "height": 34
        },
        "outputId": "6fcdd94c-bae6-4075-bcc7-1e633080bd02"
      },
      "source": [
        "from sklearn.metrics import accuracy_score\n",
        "accuracy_score(data_label, y_kmeans)"
      ],
      "execution_count": 29,
      "outputs": [
        {
          "output_type": "execute_result",
          "data": {
            "text/plain": [
              "0.8780266343825666"
            ]
          },
          "metadata": {
            "tags": []
          },
          "execution_count": 29
        }
      ]
    },
    {
      "cell_type": "code",
      "metadata": {
        "id": "CU6CxT3WhqlW",
        "colab_type": "code",
        "colab": {
          "base_uri": "https://localhost:8080/",
          "height": 291
        },
        "outputId": "e7210d0f-e0f7-4853-b91a-267d4cbb9836"
      },
      "source": [
        "import seaborn as sns; sns.set()\n",
        "from sklearn.metrics import confusion_matrix\n",
        "mat = confusion_matrix(data_label, y_kmeans)\n",
        "sns.heatmap(mat.T, square=True, annot=True, fmt='d', cbar=False)\n",
        "plt.xlabel('true label')\n",
        "plt.ylabel('predicted label');"
      ],
      "execution_count": 32,
      "outputs": [
        {
          "output_type": "display_data",
          "data": {
            "image/png": "[encoded data removed]",
            "text/plain": [
              "<Figure size 432x288 with 1 Axes>"
            ]
          },
          "metadata": {
            "tags": []
          }
        }
      ]
    }
  ]
}